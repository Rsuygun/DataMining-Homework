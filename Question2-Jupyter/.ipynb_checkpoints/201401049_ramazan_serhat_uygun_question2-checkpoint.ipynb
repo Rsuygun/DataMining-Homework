{
 "cells": [
  {
   "cell_type": "markdown",
   "id": "5456f810-2c6f-4921-a912-a9bd6f41e09d",
   "metadata": {},
   "source": [
    "##### **Name - Surname:** Ramazan Serhat Uygun\n",
    "##### **Number:** 201401049"
   ]
  },
  {
   "cell_type": "markdown",
   "id": "714caad3-d177-4e7d-9695-3805e48d830c",
   "metadata": {},
   "source": [
    "# **Question 2**"
   ]
  },
  {
   "cell_type": "markdown",
   "id": "f8ac6f3d-f3ba-40e3-8aa6-41fdc39ea2fe",
   "metadata": {},
   "source": [
    "---"
   ]
  },
  {
   "cell_type": "markdown",
   "id": "aee722af-e65c-45df-b3e8-6a82287b52ee",
   "metadata": {},
   "source": [
    "## **K-Means Algorithm** "
   ]
  },
  {
   "cell_type": "markdown",
   "id": "7ecd7dc4-3fcd-4a17-adac-ec09d9d16d83",
   "metadata": {},
   "source": [
    "### Dataset Details for Question 2"
   ]
  },
  {
   "cell_type": "markdown",
   "id": "ac9f0562-66c9-41e4-9451-0f6532a92b03",
   "metadata": {},
   "source": [
    "#### **Dataset Name:** Students Performance"
   ]
  },
  {
   "cell_type": "markdown",
   "id": "baece896-843c-4ea3-bc43-ac7a9cad7a4d",
   "metadata": {},
   "source": [
    "#### **Dataset Link:** <https://www.kaggle.com/datasets/rabieelkharoua/students-performance-dataset>"
   ]
  },
  {
   "cell_type": "markdown",
   "id": "851d96fc-bf61-4ae1-bf74-577d69b755a3",
   "metadata": {},
   "source": [
    "#### **Dataset Description:** \n",
    "This dataset focuses on analyzing students' performance in mathematics, reading and writing exams. The dataset is used for educational research, to understand student achievement factors and to identify elements that influence performance."
   ]
  },
  {
   "cell_type": "markdown",
   "id": "abb90d4c-e1c2-4b23-8ea5-067cb685fd45",
   "metadata": {},
   "source": [
    "#### **Dataset Structure:** \n",
    "- **Rows:** 2392\n",
    "- **Columns:** 15\n",
    "- **Features:**\n",
    "  1. **StudentID:** Unique identification number assigned to each student.\n",
    "  2. **Age:** Age of the student.\n",
    "  3. **Gender:** Gender of the student.\n",
    "     - **1**: Woman\n",
    "     - **2**: Man\n",
    "  4. **Ethnicity:** The ethnic group to which the student belongs.\n",
    "     - **0**, **1**, **2**, **etc.**: Codes for different groups.\n",
    "  5. **ParentalEducation:** The highest level of education of one of the student's parents.\n",
    "     - **0**: Education level not specified\n",
    "     - **1**: High School\n",
    "     - **2**: Pre-university\n",
    "     - **3**: Bachelor's degree\n",
    "     - **4**: Master's degree or higher\n",
    "  6. **StudyTimeWeekly:**  Student's weekly study time (hours).\n",
    "  7. **Absences:** The number of days the student is absent during the year.\n",
    "  8. **Tutoring:** Whether the student receives private tutoring.\n",
    "     - **1**: Yes\n",
    "     - **2**: No\n",
    "  9. **ParentalSupport:** The level of support the student receives from parents.\n",
    "      - **1**: Less\n",
    "      - **2**: Medium\n",
    "      - **3**: High\n",
    "  10. **Extracurricular:** Student participation in extra-curricular activities.\n",
    "      - **1**: Participates in events\n",
    "      - **2**: Does not participate in events\n",
    "  11. **Sports:** Student participation in sports activities.\n",
    "      - **1**: Participates in events\n",
    "      - **2**: Does not participate in events\n",
    "  12. **Music:** Student participation in music activities.\n",
    "      - **1**: Participates in events\n",
    "      - **2**: Does not participate in events\n",
    "  13. **Volunteering:** Student participation in volunteering activities.\n",
    "      - **1**: Participates in events\n",
    "      - **2**: Does not participate in events\n",
    "  14. **GPA:** The student's GPA (a value between 0-4).\n",
    "  15. **GradeClass:** The grade level at which the student is classified according to his/her overall performance.\n",
    "      - **1**: Perfect\n",
    "      - **2**: Good\n",
    "      - **3**: Medium\n",
    "      - **4**: Weak    "
   ]
  },
  {
   "cell_type": "markdown",
   "id": "2332ba5c-2422-4878-8dc6-c0523c2e8c4e",
   "metadata": {},
   "source": [
    "## Required Libraries"
   ]
  },
  {
   "cell_type": "code",
   "execution_count": 18,
   "id": "d488d79f-2c46-44a3-93e0-67bee22ebe8f",
   "metadata": {},
   "outputs": [],
   "source": [
    "# Veri işleme ve analitik kütüphaneler\n",
    "import pandas as pd\n",
    "import numpy as np\n",
    "\n",
    "# Veri görselleştirme kütüphaneleri\n",
    "import matplotlib.pyplot as plt\n",
    "import seaborn as sns\n",
    "\n",
    "# K-ortalamalar ve ölçeklendirme için gerekli kütüphaneler\n",
    "from sklearn.cluster import KMeans\n",
    "from sklearn.preprocessing import StandardScaler\n",
    "\n",
    "# Kümeleme değerlendirme metriği\n",
    "from sklearn.metrics import silhouette_score"
   ]
  },
  {
   "cell_type": "markdown",
   "id": "f7f30388-5de0-4121-812b-f1cf5bb305e1",
   "metadata": {},
   "source": [
    "## Loading the Data Set and Initial Exploration"
   ]
  },
  {
   "cell_type": "code",
   "execution_count": 21,
   "id": "b3ba151f-7234-4ad1-9c74-4908d2f49d60",
   "metadata": {},
   "outputs": [
    {
     "name": "stdout",
     "output_type": "stream",
     "text": [
      "First 5 Rows of the Data Set:\n",
      "------------------------------\n",
      "   StudentID  Age  Gender  Ethnicity  ParentalEducation  StudyTimeWeekly  \\\n",
      "0       1001   17       1          0                  2        19.833723   \n",
      "1       1002   18       0          0                  1        15.408756   \n",
      "2       1003   15       0          2                  3         4.210570   \n",
      "3       1004   17       1          0                  3        10.028829   \n",
      "4       1005   17       1          0                  2         4.672495   \n",
      "\n",
      "   Absences  Tutoring  ParentalSupport  Extracurricular  Sports  Music  \\\n",
      "0         7         1                2                0       0      1   \n",
      "1         0         0                1                0       0      0   \n",
      "2        26         0                2                0       0      0   \n",
      "3        14         0                3                1       0      0   \n",
      "4        17         1                3                0       0      0   \n",
      "\n",
      "   Volunteering       GPA  GradeClass  \n",
      "0             0  2.929196         2.0  \n",
      "1             0  3.042915         1.0  \n",
      "2             0  0.112602         4.0  \n",
      "3             0  2.054218         3.0  \n",
      "4             0  1.288061         4.0  \n",
      "--------------------------------------------------------------------------------------\n",
      "\n",
      "General Information of the Data Set:\n",
      "---------------------------------------\n",
      "<class 'pandas.core.frame.DataFrame'>\n",
      "RangeIndex: 2392 entries, 0 to 2391\n",
      "Data columns (total 15 columns):\n",
      " #   Column             Non-Null Count  Dtype  \n",
      "---  ------             --------------  -----  \n",
      " 0   StudentID          2392 non-null   int64  \n",
      " 1   Age                2392 non-null   int64  \n",
      " 2   Gender             2392 non-null   int64  \n",
      " 3   Ethnicity          2392 non-null   int64  \n",
      " 4   ParentalEducation  2392 non-null   int64  \n",
      " 5   StudyTimeWeekly    2392 non-null   float64\n",
      " 6   Absences           2392 non-null   int64  \n",
      " 7   Tutoring           2392 non-null   int64  \n",
      " 8   ParentalSupport    2392 non-null   int64  \n",
      " 9   Extracurricular    2392 non-null   int64  \n",
      " 10  Sports             2392 non-null   int64  \n",
      " 11  Music              2392 non-null   int64  \n",
      " 12  Volunteering       2392 non-null   int64  \n",
      " 13  GPA                2392 non-null   float64\n",
      " 14  GradeClass         2392 non-null   float64\n",
      "dtypes: float64(3), int64(12)\n",
      "memory usage: 280.4 KB\n",
      "None\n",
      "--------------------------------------------------------------------------------------\n",
      "\n",
      "Number of Missing Values:\n",
      "----------------------------\n",
      "StudentID            0\n",
      "Age                  0\n",
      "Gender               0\n",
      "Ethnicity            0\n",
      "ParentalEducation    0\n",
      "StudyTimeWeekly      0\n",
      "Absences             0\n",
      "Tutoring             0\n",
      "ParentalSupport      0\n",
      "Extracurricular      0\n",
      "Sports               0\n",
      "Music                0\n",
      "Volunteering         0\n",
      "GPA                  0\n",
      "GradeClass           0\n",
      "dtype: int64\n",
      "--------------------------------------------------------------------------------------\n"
     ]
    }
   ],
   "source": [
    "# Veri setini yükleme\n",
    "file_path = 'Student_performance_data.csv'\n",
    "data = pd.read_csv(file_path)\n",
    "\n",
    "# Veri setinin ilk 5 satırını görüntüleme\n",
    "print(\"First 5 Rows of the Data Set:\")\n",
    "print(\"------------------------------\")\n",
    "print(data.head())\n",
    "print(\"--------------------------------------------------------------------------------------\")\n",
    "\n",
    "# Veri seti hakkında genel bilgi\n",
    "print(\"\\nGeneral Information of the Data Set:\")\n",
    "print(\"---------------------------------------\")\n",
    "print(data.info())\n",
    "print(\"--------------------------------------------------------------------------------------\")\n",
    "\n",
    "# Eksik veri sayısını kontrol etme\n",
    "print(\"\\nNumber of Missing Values:\")\n",
    "print(\"----------------------------\")\n",
    "print(data.isnull().sum())\n",
    "print(\"--------------------------------------------------------------------------------------\")\n"
   ]
  },
  {
   "cell_type": "code",
   "execution_count": 27,
   "id": "825922e3-a82a-466c-8d7c-4db677d409b2",
   "metadata": {},
   "outputs": [
    {
     "name": "stderr",
     "output_type": "stream",
     "text": [
      "C:\\Users\\rsuyg\\AppData\\Local\\Temp\\ipykernel_24464\\2435460852.py:2: FutureWarning: \n",
      "\n",
      "Passing `palette` without assigning `hue` is deprecated and will be removed in v0.14.0. Assign the `x` variable to `hue` and set `legend=False` for the same effect.\n",
      "\n",
      "  sns.countplot(data=data, x='Gender', palette='viridis')\n"
     ]
    },
    {
     "data": {
      "image/png": "[encoded data removed]",
      "text/plain": [
       "<Figure size 800x500 with 1 Axes>"
      ]
     },
     "metadata": {},
     "output_type": "display_data"
    }
   ],
   "source": [
    "plt.figure(figsize=(8, 5))\n",
    "sns.countplot(data=data, x='Gender', palette='viridis')\n",
    "plt.title('Gender Distribution', fontsize=16)\n",
    "plt.xlabel('Gender (0 = Male, 1 = Female)', fontsize=12)\n",
    "plt.ylabel('Count', fontsize=12)\n",
    "plt.show()"
   ]
  },
  {
   "cell_type": "code",
   "execution_count": null,
   "id": "b5866bc6-ad8b-4578-b9e9-3ad444701dd5",
   "metadata": {},
   "outputs": [],
   "source": []
  }
 ],
 "metadata": {
  "kernelspec": {
   "display_name": "Python 3 (ipykernel)",
   "language": "python",
   "name": "python3"
  },
  "language_info": {
   "codemirror_mode": {
    "name": "ipython",
    "version": 3
   },
   "file_extension": ".py",
   "mimetype": "text/x-python",
   "name": "python",
   "nbconvert_exporter": "python",
   "pygments_lexer": "ipython3",
   "version": "3.12.7"
  }
 },
 "nbformat": 4,
 "nbformat_minor": 5
}
